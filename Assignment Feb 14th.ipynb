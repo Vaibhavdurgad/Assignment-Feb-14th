{
 "cells": [
  {
   "cell_type": "markdown",
   "id": "edd7a6cf-e884-4d0d-a857-c9cf8d8ac5b4",
   "metadata": {},
   "source": [
    "Q1. what is multithreading in python? why is it used? Name the module used to handle threads in python"
   ]
  },
  {
   "cell_type": "code",
   "execution_count": null,
   "id": "6c0425ac-f0ed-4d3b-adf5-fc68fed23f1f",
   "metadata": {},
   "outputs": [],
   "source": [
    "Ans:Multithreading refers to concurrently executing multiple threads by rapidly switching the control of the CPU between thread"
   ]
  },
  {
   "cell_type": "markdown",
   "id": "b94d24a4-9002-4ade-a453-6fd07992dbf6",
   "metadata": {},
   "source": [
    "   Multiple threads within a process share the same data space with the main thread and can therefore share information"
   ]
  },
  {
   "cell_type": "code",
   "execution_count": null,
   "id": "052867e5-4566-400b-9b37-875e646d1740",
   "metadata": {},
   "outputs": [],
   "source": [
    "   Threading Module"
   ]
  },
  {
   "cell_type": "markdown",
   "id": "6497a655-13d7-47c1-95db-fe166a409e09",
   "metadata": {},
   "source": [
    "Q2. why threading module used? write the use of the following functions\n",
    "1.activeCount()\n",
    "2.currentThread()\n",
    "3.enumerate()"
   ]
  },
  {
   "cell_type": "markdown",
   "id": "8c6d31f2-e5e5-43a5-a261-ec7a2eae7a9f",
   "metadata": {},
   "source": [
    "Ans :Python threading allows you to have different parts of your program run concurrently and can simplify your design. "
   ]
  },
  {
   "cell_type": "markdown",
   "id": "002a0798-1739-4f93-838d-2a48242563c6",
   "metadata": {},
   "source": [
    "Ans : activeCount() − Returns the number of thread objects that are active. \n",
    "      currentThread() − Returns the number of thread objects in the caller's thread control.\n",
    "      enumerate() − Returns a list of all thread objects that are currently active.\n"
   ]
  },
  {
   "cell_type": "markdown",
   "id": "9ce814f0-60c2-4f08-a12d-ae0bdc6b680f",
   "metadata": {},
   "source": [
    "3. Explain the following functions\n",
    "1.run()\n",
    "2.start()\n",
    "3.join()\n",
    "4.isAlive()"
   ]
  },
  {
   "cell_type": "markdown",
   "id": "5d33aeb1-8d2c-4966-aebd-7fcd3a550594",
   "metadata": {},
   "source": [
    "Ans :run() − The run() method is the entry point for a thread.\n",
    "     start() − The start() method starts a thread by calling the run method.\n",
    "     join() − The join() waits for threads to terminate.\n",
    "     isAlive() − The isAlive() method checks whether a thread is still executing."
   ]
  },
  {
   "cell_type": "markdown",
   "id": "dab09392-a3fb-421f-b872-dce834312a6b",
   "metadata": {},
   "source": [
    "Q4. write a python program to create two threads. Thread one must print the list of squares and thread\n",
    "two must print the list of cubes"
   ]
  },
  {
   "cell_type": "code",
   "execution_count": 6,
   "id": "b088c00e-377c-4655-bbb9-8a0ca8b88f76",
   "metadata": {},
   "outputs": [
    {
     "name": "stdout",
     "output_type": "stream",
     "text": [
      "Program starts 0\n",
      "Program starts 1\n",
      "Program starts 4\n",
      "Program starts 9\n",
      "Program starts 16\n",
      "Program starts 25\n",
      "Program starts 36\n",
      "Program starts 49\n",
      "Program starts 64\n",
      "Program starts 81\n"
     ]
    }
   ],
   "source": [
    "import threading\n",
    "l=list(range(10))\n",
    "def test(l):\n",
    "        print(\"Program starts %d\" % l**2)\n",
    "thread=[threading.Thread(target=test,args=(i,))for i in range(10)]\n",
    "for i in thread:\n",
    "    i.start()"
   ]
  },
  {
   "cell_type": "code",
   "execution_count": 1,
   "id": "e256413c-57a8-442b-8d03-066ea96d0232",
   "metadata": {},
   "outputs": [
    {
     "name": "stdout",
     "output_type": "stream",
     "text": [
      "Program starts 0\n",
      "Program starts 1\n",
      "Program starts 8\n",
      "Program starts 27\n",
      "Program starts 64\n",
      "Program starts 125\n",
      "Program starts 216\n",
      "Program starts 343\n",
      "Program starts 512\n",
      "Program starts 729\n"
     ]
    }
   ],
   "source": [
    "import threading\n",
    "l=list(range(10))\n",
    "def test(l):\n",
    "        print(\"Program starts %d\" % l**3)\n",
    "thread=[threading.Thread(target=test,args=(i,))for i in range(10)]\n",
    "for i in thread:\n",
    "    i.start()"
   ]
  },
  {
   "cell_type": "markdown",
   "id": "efb948d9-1a42-4562-a411-73f784366919",
   "metadata": {},
   "source": [
    "Q5. State advantages and disadvantages of multithreading"
   ]
  },
  {
   "cell_type": "markdown",
   "id": "e0a61b6d-d63b-474a-a20a-4e02daffa860",
   "metadata": {},
   "source": [
    "Ans : Advantages of multithreading\n",
    "1.Multithreading in Python streamlines the efficient utilization of resources as the threads share the same memory and data space.\n",
    "2.It also allows the concurrent appearance of multiple tasks and reduces the response time. This improves the performance.\n",
    "\n",
    "disadvantages of multithreading\n",
    "\n",
    "1.Difficulty of writing code\n",
    "Multithreaded and multicontexted applications are not easy to write. Only experienced programmers should undertake coding for these types of applications.\n",
    "\n",
    "2.Difficulty of debugging\n",
    "It is much harder to replicate an error in a multithreaded or multicontexted application than it is to do so in a single-threaded, single-contexted application. As a result, it is more difficult, in the former case, to identify and verify root causes when errors occur."
   ]
  },
  {
   "cell_type": "markdown",
   "id": "376411fd-3662-4eb1-a258-54f066c852ff",
   "metadata": {},
   "source": [
    "Q6. Explain deadlocks and race conditions."
   ]
  },
  {
   "cell_type": "markdown",
   "id": "ed2dd5e6-4274-416a-ad2c-894be6f2b814",
   "metadata": {},
   "source": [
    "Ans : A deadlock is a concurrency failure mode where a thread or threads wait for a condition that never occurs. \n",
    "race is a failure case where the behavior of the program is dependent upon the order of execution by two or more threads"
   ]
  }
 ],
 "metadata": {
  "kernelspec": {
   "display_name": "Python 3 (ipykernel)",
   "language": "python",
   "name": "python3"
  },
  "language_info": {
   "codemirror_mode": {
    "name": "ipython",
    "version": 3
   },
   "file_extension": ".py",
   "mimetype": "text/x-python",
   "name": "python",
   "nbconvert_exporter": "python",
   "pygments_lexer": "ipython3",
   "version": "3.10.8"
  }
 },
 "nbformat": 4,
 "nbformat_minor": 5
}
